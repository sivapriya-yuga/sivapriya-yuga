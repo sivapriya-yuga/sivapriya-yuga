{
  "nbformat": 4,
  "nbformat_minor": 0,
  "metadata": {
    "colab": {
      "provenance": [],
      "authorship_tag": "ABX9TyPEbAss1qw9JFr4M8jVot8V",
      "include_colab_link": true
    },
    "kernelspec": {
      "name": "python3",
      "display_name": "Python 3"
    },
    "language_info": {
      "name": "python"
    }
  },
  "cells": [
    {
      "cell_type": "markdown",
      "metadata": {
        "id": "view-in-github",
        "colab_type": "text"
      },
      "source": [
        "<a href=\"https://colab.research.google.com/github/sivapriya-yuga/sivapriya-yuga/blob/main/Practice_coding_python.ipynb\" target=\"_parent\"><img src=\"https://colab.research.google.com/assets/colab-badge.svg\" alt=\"Open In Colab\"/></a>"
      ]
    },
    {
      "cell_type": "code",
      "execution_count": null,
      "metadata": {
        "id": "qHDqgYQqxZP8"
      },
      "outputs": [],
      "source": []
    },
    {
      "cell_type": "code",
      "source": [
        "#To find positive or negative number\n",
        "A=int(input(\"Enter a number :\"))\n",
        "if A>0:\n",
        "  print(\"The number is positive number \",A)\n",
        "elif A==0:\n",
        "  print(\"The number is equal to 0\")\n",
        "else:\n",
        "  print(\"The number is a negative number\")\n",
        "print(\"Answer is correct\")\n"
      ],
      "metadata": {
        "colab": {
          "base_uri": "https://localhost:8080/"
        },
        "id": "LOMVcpNOEyiI",
        "outputId": "5a62c3c2-3675-4c40-fcee-ae9496227c8d"
      },
      "execution_count": null,
      "outputs": [
        {
          "output_type": "stream",
          "name": "stdout",
          "text": [
            "Enter a number :-89\n",
            "The number is a negative number\n",
            "Answer is correct\n"
          ]
        }
      ]
    },
    {
      "cell_type": "code",
      "source": [
        "#Multiplication table\n",
        "n=int(input(\"Enter a number:\"))\n",
        "for i in range(0,11):\n",
        "  result=n*i\n",
        "  print(n,\"*\",i,\"=\",result)\n"
      ],
      "metadata": {
        "colab": {
          "base_uri": "https://localhost:8080/"
        },
        "id": "k0HrQ-Xd_KaD",
        "outputId": "32d2f34b-1cf8-4cf8-a328-d4b0a5782b08"
      },
      "execution_count": null,
      "outputs": [
        {
          "output_type": "stream",
          "name": "stdout",
          "text": [
            "Enter a number:7\n",
            "7 * 0 = 0\n",
            "7 * 1 = 7\n",
            "7 * 2 = 14\n",
            "7 * 3 = 21\n",
            "7 * 4 = 28\n",
            "7 * 5 = 35\n",
            "7 * 6 = 42\n",
            "7 * 7 = 49\n",
            "7 * 8 = 56\n",
            "7 * 9 = 63\n",
            "7 * 10 = 70\n"
          ]
        }
      ]
    },
    {
      "cell_type": "code",
      "source": [
        "#voting method\n",
        "P=int(input(\"Enter the age of voter: \"))\n",
        "if P>=18:\n",
        "  print(\"Voter is eligible to vote\")\n",
        "else:\n",
        "  print(\"Voter is not eligible to vote\")\n",
        "print(\"Jai Hind\")"
      ],
      "metadata": {
        "colab": {
          "base_uri": "https://localhost:8080/"
        },
        "id": "wEvbqCarI173",
        "outputId": "03553c2c-442f-488a-fc1c-16b9dc8781d0"
      },
      "execution_count": null,
      "outputs": [
        {
          "output_type": "stream",
          "name": "stdout",
          "text": [
            "Enter the age of voter: 12\n",
            "Voter is not eligible to vote\n",
            "Jai Hind\n"
          ]
        }
      ]
    },
    {
      "cell_type": "code",
      "source": [
        "# To find a even or odd number\n",
        "a=int(input(\"Value of A:\")) #Enter a no\n",
        "if a%2==0:\n",
        " print(\"The number is Even number\")\n",
        "else:\n",
        "  print(\"The number is odd number\")"
      ],
      "metadata": {
        "colab": {
          "base_uri": "https://localhost:8080/"
        },
        "id": "4XErmDCIAPVB",
        "outputId": "0a46185d-a48b-4493-cb4e-61b2b8c6ab77"
      },
      "execution_count": null,
      "outputs": [
        {
          "output_type": "stream",
          "name": "stdout",
          "text": [
            "Value of A:787986\n",
            "The number is Even number\n"
          ]
        }
      ]
    },
    {
      "cell_type": "code",
      "source": [
        "#To calculate Electricity bill\n",
        "units=int(input(\"Enter the no of units:\"))\n",
        "if units<=100:\n",
        "  print(\"There are no charges\")\n",
        "elif units<=500 and units>100:\n",
        "  fixed_charges=200\n",
        "  tax_rate=15%(200)\n",
        "  if units<=200:\n",
        "    rate=(100*4.45)+fixed_charges+tax_rate\n",
        "    print(\"Rs\",rate)\n",
        "elif units>500:\n",
        "  fixed_charges=300\n",
        "  tax_rate=18%(300)\n",
        "  rate1=(units-100)*4.5+fixed_charges+tax_rate\n",
        "  print(rate1)\n",
        "print(\"****SAVE ELECTRICITY****\")\n",
        "\n"
      ],
      "metadata": {
        "id": "KRPKhuWFruTK",
        "colab": {
          "base_uri": "https://localhost:8080/"
        },
        "outputId": "755ea2ea-01eb-4f27-ecea-a5bdd33f2ec0"
      },
      "execution_count": null,
      "outputs": [
        {
          "output_type": "stream",
          "name": "stdout",
          "text": [
            "Enter the no of units:501\n",
            "2122.5\n",
            "****SAVE ELECTRICITY****\n"
          ]
        }
      ]
    },
    {
      "cell_type": "code",
      "source": [
        "#concatenation of string\n",
        "x=\"Python is \"\n",
        "y=\"awesome\"\n",
        "print(x,y)"
      ],
      "metadata": {
        "colab": {
          "base_uri": "https://localhost:8080/"
        },
        "id": "hSeivgtwVwEn",
        "outputId": "d5c80dd5-3008-45d8-bf16-65da8ae0965d"
      },
      "execution_count": null,
      "outputs": [
        {
          "output_type": "stream",
          "name": "stdout",
          "text": [
            "Python is  awesome\n"
          ]
        }
      ]
    },
    {
      "cell_type": "code",
      "source": [
        "#Area of Triangle\n",
        "a=int(input(\"Enter base of the triangle: \"))\n",
        "b=int(input(\"Enter height of the triangle: \"))\n",
        "Area=int(1/2*(a*b))\n",
        "print(\"Area= \",Area)"
      ],
      "metadata": {
        "colab": {
          "base_uri": "https://localhost:8080/"
        },
        "id": "vGvBCNhtWRVn",
        "outputId": "50c912dc-4f1e-40a9-b908-089838c6aa76"
      },
      "execution_count": null,
      "outputs": [
        {
          "output_type": "stream",
          "name": "stdout",
          "text": [
            "Enter base of the triangle: 10\n",
            "Enter height of the triangle: 12\n",
            "Area=  60\n"
          ]
        }
      ]
    },
    {
      "cell_type": "code",
      "source": [
        "i=1\n",
        "while i<6:\n",
        "  print(i)\n",
        "  i+=1\n",
        "  if i==3:\n",
        "    break"
      ],
      "metadata": {
        "colab": {
          "base_uri": "https://localhost:8080/"
        },
        "id": "K7QSdpj-Y5Q3",
        "outputId": "dcb28d61-283c-4afa-f1b3-dfce9a6806f2"
      },
      "execution_count": null,
      "outputs": [
        {
          "output_type": "stream",
          "name": "stdout",
          "text": [
            "1\n",
            "2\n"
          ]
        }
      ]
    },
    {
      "cell_type": "code",
      "source": [
        "#To find greatest of three nos\n",
        "a=int(input(\"Enter first no:\"))\n",
        "b=int(input(\"Enter Second no:\"))\n",
        "c=int(input(\"Enter Third no:\"))\n",
        "if a>b and a>c:\n",
        "  print(a,\"A is the greatest no\")\n",
        "elif b>a and b>c:\n",
        "  print(b,\"B is the greatest no\")\n",
        "elif c>a and c>b:\n",
        "  print(c,\"C is the greatest no:\")\n",
        "print(\"Found the greatest no\")\n"
      ],
      "metadata": {
        "colab": {
          "base_uri": "https://localhost:8080/"
        },
        "id": "1Hnx5N-iuopK",
        "outputId": "33f70fbc-edff-4f56-88ae-a6083c04b88c"
      },
      "execution_count": null,
      "outputs": [
        {
          "output_type": "stream",
          "name": "stdout",
          "text": [
            "Enter first no:786\n",
            "Enter Second no:907\n",
            "Enter Third no:978\n",
            "978 C is the greatest no:\n",
            "Found the greatest no\n"
          ]
        }
      ]
    },
    {
      "cell_type": "code",
      "source": [
        "i=2\n",
        "while i< 8:\n",
        "   i+=1\n",
        "   if i==6:\n",
        "    continue\n",
        "   print(i)"
      ],
      "metadata": {
        "colab": {
          "base_uri": "https://localhost:8080/"
        },
        "id": "zLZsFIwoo-ax",
        "outputId": "9020c592-6610-43af-9c5c-67d82e2be61b"
      },
      "execution_count": null,
      "outputs": [
        {
          "output_type": "stream",
          "name": "stdout",
          "text": [
            "3\n",
            "4\n",
            "5\n",
            "7\n",
            "8\n"
          ]
        }
      ]
    },
    {
      "cell_type": "code",
      "source": [
        "factorial=4\n",
        "for i in range(1,4):\n",
        "  f=factorial*i\n",
        "print(i)\n",
        "print(factorial)"
      ],
      "metadata": {
        "colab": {
          "base_uri": "https://localhost:8080/"
        },
        "id": "FUZTIvi1PoGK",
        "outputId": "383a2c3a-f06e-4095-f81d-23207100e085"
      },
      "execution_count": null,
      "outputs": [
        {
          "output_type": "stream",
          "name": "stdout",
          "text": [
            "3\n",
            "4\n"
          ]
        }
      ]
    },
    {
      "cell_type": "code",
      "source": [],
      "metadata": {
        "id": "A9pLWS8e_xu0"
      },
      "execution_count": null,
      "outputs": []
    }
  ]
}