{
  "nbformat": 4,
  "nbformat_minor": 0,
  "metadata": {
    "colab": {
      "provenance": [],
      "authorship_tag": "ABX9TyPvWn9i3zWLjZ0TJVXxq3td",
      "include_colab_link": true
    },
    "kernelspec": {
      "name": "python3",
      "display_name": "Python 3"
    },
    "language_info": {
      "name": "python"
    }
  },
  "cells": [
    {
      "cell_type": "markdown",
      "metadata": {
        "id": "view-in-github",
        "colab_type": "text"
      },
      "source": [
        "<a href=\"https://colab.research.google.com/github/sivapriya-yuga/sivapriya-yuga/blob/main/oops_practise.ipynb\" target=\"_parent\"><img src=\"https://colab.research.google.com/assets/colab-badge.svg\" alt=\"Open In Colab\"/></a>"
      ]
    },
    {
      "cell_type": "code",
      "execution_count": null,
      "metadata": {
        "colab": {
          "base_uri": "https://localhost:8080/"
        },
        "id": "PNBhxk827N6F",
        "outputId": "f6765ddd-6355-46cb-d5a3-76774da4910b"
      },
      "outputs": [
        {
          "output_type": "stream",
          "name": "stdout",
          "text": [
            "5\n",
            "25\n",
            "The result is given\n",
            "None\n",
            "24\n",
            "81\n"
          ]
        }
      ],
      "source": [
        "\n",
        "class Area :\n",
        " a=5\n",
        " l=3\n",
        " b=8\n",
        " r=8\n",
        " def display(self):\n",
        "   print(\"The result is given\")\n",
        "square= Area()\n",
        "print(square.a)\n",
        "area=square.a*square.a\n",
        "print(area)\n",
        "print(square.display())\n",
        "rectangle= Area()\n",
        "area=rectangle.l*rectangle.b\n",
        "print(area)\n",
        "circle= Area()\n",
        "circle.r=9\n",
        "area=(circle.r*circle.r)\n",
        "print(area)"
      ]
    },
    {
      "cell_type": "code",
      "source": [
        "# prompt: print(\"Hello Python\")\n",
        "\n",
        "class Area :\n",
        " a=5\n",
        " l=3\n",
        " b=8\n",
        " r=8\n",
        " def display(self):\n",
        "   print(\"The result is given\")\n",
        "square= Area()\n",
        "print(square.a)\n",
        "area=square.a*square.a\n",
        "print(area)\n",
        "print(square.display())\n",
        "rectangle= Area()\n",
        "area=rectangle.l*rectangle.b\n",
        "print(area)\n",
        "circle= Area()\n",
        "circle.r=9\n",
        "area=(circle.r*circle.r)\n",
        "print(area)\n",
        "print(\"Hello Python\")\n"
      ],
      "metadata": {
        "id": "Xy4x3UKrVRmI"
      },
      "execution_count": null,
      "outputs": []
    },
    {
      "cell_type": "code",
      "source": [
        "class Teacher:\n",
        "  def __init__(self,name,course):\n",
        "   self.name=name\n",
        "   self.course=course\n",
        "t1=Teacher(\"Sheela\",\"Datascience\")\n",
        "print(t1.name,\"is handling\",t1.course)\n",
        "t2=Teacher(\"Irfan\",\"Stack development\")\n",
        "print(t2.name,\"is handling\",t2.course)"
      ],
      "metadata": {
        "colab": {
          "base_uri": "https://localhost:8080/"
        },
        "id": "w9qwBIOvMs9V",
        "outputId": "bca8a524-9939-4b98-8f7a-b332c4d5997f"
      },
      "execution_count": null,
      "outputs": [
        {
          "output_type": "stream",
          "name": "stdout",
          "text": [
            "Sheela is handling Datascience\n",
            "Irfan is handling Stack development\n"
          ]
        }
      ]
    },
    {
      "cell_type": "code",
      "source": [
        "class Person:\n",
        " def __init__(self,name,age):\n",
        "  self.name=name\n",
        "  self.age=age\n",
        "p1=Person(\"Rithul\",11)\n",
        "print(p1.name,p1.age)\n",
        "p2=Person(\"Dhuruv\",6)\n",
        "print(p2.name,p2.age)"
      ],
      "metadata": {
        "colab": {
          "base_uri": "https://localhost:8080/"
        },
        "id": "VkEgEBSTs2c9",
        "outputId": "5a23945a-cb22-4165-cf5f-26fe1ac7a356"
      },
      "execution_count": null,
      "outputs": [
        {
          "output_type": "stream",
          "name": "stdout",
          "text": [
            "Rithul 11\n",
            "Dhuruv 6\n"
          ]
        }
      ]
    },
    {
      "cell_type": "code",
      "source": [
        "class Person:\n",
        " def __init__(self,name,age):\n",
        "  self.name=name\n",
        "  self.age=age\n",
        "\n",
        " def myfunc(self):\n",
        "   print(\"Welcome to the show\",self.name)\n",
        "p1=Person(\"Rithul\",11)\n",
        "print(p1.name,p1.age)\n",
        "p1.myfunc()\n",
        "p2=Person(\"Dhuruv\",6)\n",
        "p2.age=5\n",
        "print(p2.name,p2.age)\n",
        "p2.myfunc()"
      ],
      "metadata": {
        "colab": {
          "base_uri": "https://localhost:8080/"
        },
        "id": "NUj8U15Nx1uX",
        "outputId": "5a5269a8-ce9e-4dbe-dc9b-07c7af8249a6"
      },
      "execution_count": null,
      "outputs": [
        {
          "output_type": "stream",
          "name": "stdout",
          "text": [
            "Rithul 11\n",
            "Welcome to the show Rithul\n",
            "Dhuruv 5\n",
            "Welcome to the show Dhuruv\n"
          ]
        }
      ]
    },
    {
      "cell_type": "code",
      "source": [
        "class Animals:\n",
        "  def __init__(self,name,breed):\n",
        "    self.name=name\n",
        "    self.breed=breed\n",
        "  def myfunc(self):\n",
        "    print(\"Given animal  breed is \"+ self.breed)\n",
        "dom=Animals(\"Dog\",\"Labrodar\")\n",
        "print(dom.name)\n",
        "dom.myfunc()\n"
      ],
      "metadata": {
        "colab": {
          "base_uri": "https://localhost:8080/"
        },
        "id": "tQ-6ga126fNI",
        "outputId": "70ccbbe1-fbd9-43f9-b3d7-ab63afd6b875"
      },
      "execution_count": null,
      "outputs": [
        {
          "output_type": "stream",
          "name": "stdout",
          "text": [
            "Dog\n",
            "Given animal  breed is Labrodar\n"
          ]
        }
      ]
    },
    {
      "cell_type": "code",
      "source": [
        "class Person:\n",
        "  def __init__(self,fname,lname):\n",
        "    self.firstname=fname\n",
        "    self.lastname=lname\n",
        "    print(\"Enter the name\")\n",
        "  def printname(self):\n",
        "    print(self.firstname,self.lastname)\n",
        "class Student(Person):\n",
        "  def __init__(self, fname, lname,year):\n",
        "    super().__init__(fname, lname)\n",
        "    self.graduationyear=2023\n",
        "  def welcome(self):\n",
        "   print(\"WElcome\",self.firstname,self.lastname,\"to the Graduation of\",self.graduationyear)\n",
        "p1= Person(\"Rithul\",\"Sirpi\")\n",
        "#print(p1.firstname,p1.lastname)\n",
        "p1.printname()\n",
        "p2=Person(\"Dhuruv\",\"Sirpi\")\n",
        "p2.printname()\n",
        "p3=Student(\"Yuga\",\"Sirpi\",2023)\n",
        "p3.printname()\n",
        "p3.graduationyear\n",
        "p3.welcome()"
      ],
      "metadata": {
        "colab": {
          "base_uri": "https://localhost:8080/"
        },
        "id": "G2ufEkb4s6DO",
        "outputId": "ed32cd8c-949f-4c2f-9411-900261704447"
      },
      "execution_count": null,
      "outputs": [
        {
          "output_type": "stream",
          "name": "stdout",
          "text": [
            "Enter the name\n",
            "Rithul Sirpi\n",
            "Enter the name\n",
            "Dhuruv Sirpi\n",
            "Enter the name\n",
            "Yuga Sirpi\n",
            "WElcome Yuga Sirpi to the Graduation of 2023\n"
          ]
        }
      ]
    },
    {
      "cell_type": "code",
      "source": [
        "#Class Polymorphism\n",
        "class Car:\n",
        "  def __init__(self,brand,name):\n",
        "    self.brand=brand\n",
        "    self.name=name\n",
        "  def move(self):\n",
        "   print(\"Drive\")\n",
        "class Boat:\n",
        "  def __init__(self,brand,name):\n",
        "    self.brand=brand\n",
        "    self.name=name\n",
        "  def move(self):\n",
        "   print(\"Sail\")\n",
        "class Aeroplane:\n",
        "  def __init__(self,brand,name):\n",
        "    self.brand=brand\n",
        "    self.name=name\n",
        "  def move(self):\n",
        "   print(\"Fly\")\n",
        "c1=Car(\"Ford\",\"Mustang\")\n",
        "print(c1.brand,c1.name)\n",
        "B2=Boat(\"Yatcht\",\"Searay\")\n",
        "print(B2.brand,B2.name)\n",
        "a3=Aeroplane(\"Boeing\",\"Indigo\")\n",
        "print(a3.brand,a3.name)\n",
        "for x in (c1,B2,a3 ):\n",
        " x.move()"
      ],
      "metadata": {
        "colab": {
          "base_uri": "https://localhost:8080/"
        },
        "id": "2Te4a0Mr7oys",
        "outputId": "cf2dafb0-3a4f-43c8-817e-2ca211fdab70"
      },
      "execution_count": null,
      "outputs": [
        {
          "output_type": "stream",
          "name": "stdout",
          "text": [
            "Ford Mustang\n",
            "Yatcht Searay\n",
            "Boeing Indigo\n",
            "Drive\n",
            "Sail\n",
            "Fly\n"
          ]
        }
      ]
    },
    {
      "cell_type": "code",
      "source": [
        "import matplotlib\n"
      ],
      "metadata": {
        "id": "Um-BdCMaNjjQ"
      },
      "execution_count": null,
      "outputs": []
    },
    {
      "cell_type": "code",
      "source": [
        "# prompt: get input from user \"Enter a nth deciaml number of pi:\"\n",
        "import math\n",
        "n = int(input(\"Enter a nth deciaml number of pi:\"))\n",
        "#print(f'The {n}th decimal number of pi is {math.pi:.{n}f}')\n",
        "if n<0:\n",
        "  print(\"Enter a positive number\")\n",
        "elif n>1000:\n",
        "  print(\"Enter no less than 1000\")\n",
        "a=math.pi\n",
        "print(a)"
      ],
      "metadata": {
        "colab": {
          "base_uri": "https://localhost:8080/"
        },
        "id": "4VXJ2EaBVfXY",
        "outputId": "479e9a66-0440-42e4-d320-26b62372958d"
      },
      "execution_count": null,
      "outputs": [
        {
          "output_type": "stream",
          "name": "stdout",
          "text": [
            "Enter a nth deciaml number of pi:12\n",
            "3.141592653589793\n"
          ]
        }
      ]
    }
  ]
}